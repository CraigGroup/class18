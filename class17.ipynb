{
 "cells": [
  {
   "cell_type": "markdown",
   "metadata": {
    "id": "834t49zymVdO"
   },
   "source": [
    "# In-class exercises Class 17\n",
    "\n",
    "---\n",
    "Today, we will start learning how to fit data and extract parameters...\n",
    "\n",
    "\n",
    "We will keep it simple and won't use any error bars in the first example.  We will have stat errors when we use histograms, and will incorporate errors in the first example on Wed.  Data always needs errors, but we will ignore that for now...\n",
    "\n"
   ]
  },
  {
   "cell_type": "markdown",
   "metadata": {},
   "source": [
    "First, let's import the tools that we will need:"
   ]
  },
  {
   "cell_type": "code",
   "execution_count": 1,
   "metadata": {},
   "outputs": [],
   "source": [
    "\n",
    "import numpy as np\n",
    "import matplotlib.pyplot as plt\n",
    "from scipy.stats import norm\n",
    "import scipy\n"
   ]
  },
  {
   "cell_type": "markdown",
   "metadata": {},
   "source": [
    "## Fitting\n",
    "\n",
    "Let's start by making a simple dataset.  We will use the example we have used in class of an object falling.    \n"
   ]
  },
  {
   "cell_type": "code",
   "execution_count": 2,
   "metadata": {},
   "outputs": [
    {
     "data": {
      "text/plain": [
       "Text(0, 0.5, 'v (m/s)')"
      ]
     },
     "execution_count": 2,
     "metadata": {},
     "output_type": "execute_result"
    },
    {
     "data": {
      "image/png": "[encoded data removed]",
      "text/plain": [
       "<Figure size 432x288 with 1 Axes>"
      ]
     },
     "metadata": {
      "needs_background": "light"
     },
     "output_type": "display_data"
    }
   ],
   "source": [
    "\n",
    "# Seed the random number generator for reproducibility\n",
    "#np.random.seed(2)\n",
    "\n",
    "x_data = np.linspace(0, 10, num=11)\n",
    "\n",
    "#Here we are smearing our values with Gaussian random number y(1+-.2)\n",
    "y_data = 9.8*x_data*(1+np.random.normal(size=11)/5.0) \n",
    "\n",
    "\n",
    "# And plot it\n",
    "plt.figure(figsize=(6, 4))\n",
    "plt.scatter(x_data, y_data)\n",
    "plt.xlim(xmax = 12.0, xmin = 0)\n",
    "plt.xlabel(\"t (s)\")\n",
    "plt.ylabel(\"v (m/s)\")\n"
   ]
  },
  {
   "cell_type": "markdown",
   "metadata": {},
   "source": [
    "Again, this is a similar dataset to the example one in class:  dropping an object.   Let's see how we could fit it to a line and extract the best fit parameters.  For fitting in this class, we will start with the \"optimize\" method from the scipy module."
   ]
  },
  {
   "cell_type": "markdown",
   "metadata": {},
   "source": [
    "First, we also need to define our function.  Our data looks linear (y=ax+b, so let's try that first and see what we get.."
   ]
  },
  {
   "cell_type": "code",
   "execution_count": 3,
   "metadata": {},
   "outputs": [],
   "source": [
    "def test_func(x, a, b):\n",
    "    return a*x+b "
   ]
  },
  {
   "cell_type": "markdown",
   "metadata": {},
   "source": [
    "Here is the basic use of the \"optimize\" function (look at the documentation!):"
   ]
  },
  {
   "cell_type": "code",
   "execution_count": 4,
   "metadata": {},
   "outputs": [
    {
     "name": "stdout",
     "output_type": "stream",
     "text": [
      "y = 7.64209 * x + 2.82249\n"
     ]
    }
   ],
   "source": [
    "params, params_covariance = scipy.optimize.curve_fit(test_func, x_data, y_data,\n",
    "                                               p0=[10, 0])\n",
    "\n",
    "#print(params)\n",
    "print('y = %.5f * x + %.5f' % (params[0], params[1]))\n",
    "#print(params_covariance)"
   ]
  },
  {
   "cell_type": "markdown",
   "metadata": {},
   "source": [
    "Great, we got the best-fit parameters and wrote them to the screen (we will learn more about the covariance matrix later).  Let's plot the resulting best fit line on the data and see how it looks."
   ]
  },
  {
   "cell_type": "code",
   "execution_count": 5,
   "metadata": {},
   "outputs": [
    {
     "data": {
      "image/png": "[encoded data removed]",
      "text/plain": [
       "<Figure size 432x288 with 1 Axes>"
      ]
     },
     "metadata": {
      "needs_background": "light"
     },
     "output_type": "display_data"
    }
   ],
   "source": [
    "plt.figure(figsize=(6, 4))\n",
    "plt.scatter(x_data, y_data, label='Data')\n",
    "plt.plot(x_data, test_func(x_data, params[0], params[1]),\n",
    "         label='Fitted function')\n",
    "\n",
    "plt.legend(loc='best')\n",
    "plt.xlabel(\"t (s)\")\n",
    "plt.ylabel(\"v (m/s)\")\n",
    "plt.show()"
   ]
  },
  {
   "cell_type": "markdown",
   "metadata": {},
   "source": [
    "## **EXERCISE 1**:  \n",
    "<span style=\"color:red\"> What documentation are you looking at for 'curve_fit'  ?  </red>"
   ]
  },
  {
   "cell_type": "markdown",
   "metadata": {},
   "source": [
    "Include the link for documentation here.  "
   ]
  },
  {
   "cell_type": "markdown",
   "metadata": {},
   "source": [
    "## **EXERCISE 2**:  \n",
    "<span style=\"color:red\"> make a new function where you fix the y-intercept of your function to zero.  That is, your new function will be a line with only one parameter - the slope.  Make this new function, and fit the the data.  How did the value of the best fit slope change?  It should come closer to the input value of 9.8...   </red>"
   ]
  },
  {
   "cell_type": "code",
   "execution_count": 6,
   "metadata": {},
   "outputs": [],
   "source": [
    "#Put your code here"
   ]
  },
  {
   "cell_type": "markdown",
   "metadata": {},
   "source": [
    "In exercise 1, you are constraining the fit based on some prior knowledge.  We know that the object has exactly zero velocity at t=0.  If we provide such constraints, our minimization method will work more efficiently and come to a better answer.  Here is what I did for exercise 1:"
   ]
  },
  {
   "cell_type": "code",
   "execution_count": 7,
   "metadata": {},
   "outputs": [
    {
     "name": "stdout",
     "output_type": "stream",
     "text": [
      "[8.04530444]\n",
      "y = 8.04530 * x\n"
     ]
    }
   ],
   "source": [
    "def test_func2(x, a):\n",
    "    return a*x\n",
    "\n",
    "params, params_covariance = scipy.optimize.curve_fit(test_func2, x_data, y_data,\n",
    "                                               p0=[10])\n",
    "\n",
    "print(params)\n",
    "print('y = %.5f * x' % (params[0]))"
   ]
  },
  {
   "cell_type": "code",
   "execution_count": 8,
   "metadata": {},
   "outputs": [
    {
     "data": {
      "image/png": "[encoded data removed]",
      "text/plain": [
       "<Figure size 432x288 with 1 Axes>"
      ]
     },
     "metadata": {
      "needs_background": "light"
     },
     "output_type": "display_data"
    }
   ],
   "source": [
    "plt.figure(figsize=(6, 4))\n",
    "plt.scatter(x_data, y_data, label='Data')\n",
    "plt.plot(x_data, test_func2(x_data, params[0]),\n",
    "         label='Fitted function')\n",
    "\n",
    "plt.legend(loc='best')\n",
    "\n",
    "plt.show()"
   ]
  },
  {
   "cell_type": "markdown",
   "metadata": {},
   "source": [
    "By constraining the function used in the fit based on our knowledge, we got a better model of our data.  This is part of the game when trying to find the best model, and to extract parameters with small uncertainties...  "
   ]
  },
  {
   "cell_type": "markdown",
   "metadata": {},
   "source": [
    "## The Gaussian\n",
    "\n",
    "  Due to the [Central Limit Theorom](https://en.wikipedia.org/wiki/Central_limit_theorem),  the Gaussian is probably the most common function used to fit data.  \n",
    "  \n",
    " Gauss what?  Scipy comes with a method for fitting to a Gaussian normal distribution!!  \n",
    "\n"
   ]
  },
  {
   "cell_type": "code",
   "execution_count": 9,
   "metadata": {},
   "outputs": [
    {
     "data": {
      "image/png": "[encoded data removed]",
      "text/plain": [
       "<Figure size 432x288 with 1 Axes>"
      ]
     },
     "metadata": {
      "needs_background": "light"
     },
     "output_type": "display_data"
    }
   ],
   "source": [
    "data = np.random.normal(0, 1, 100)  #Draw some random data from the normal distribution\n",
    "bin_values, bins, myart = plt.hist(data, 20, density=1, alpha=0.5)  #Fill a histogram and draw it"
   ]
  },
  {
   "cell_type": "markdown",
   "metadata": {},
   "source": [
    "Does that look Gaussian?  It is, but it has limited statistics.  Now, let's fit this histogram to a Gaussian, and see how it looks:"
   ]
  },
  {
   "cell_type": "code",
   "execution_count": 10,
   "metadata": {},
   "outputs": [
    {
     "name": "stdout",
     "output_type": "stream",
     "text": [
      "\n",
      "\n",
      " The best fit parameters are:  mu=-0.064  sigma= 1.0 \n",
      "\n",
      "\n"
     ]
    },
    {
     "data": {
      "text/plain": [
       "[<matplotlib.lines.Line2D at 0x7f8cef4b3370>]"
      ]
     },
     "execution_count": 10,
     "metadata": {},
     "output_type": "execute_result"
    },
    {
     "data": {
      "image/png": "[encoded data removed]",
      "text/plain": [
       "<Figure size 432x288 with 1 Axes>"
      ]
     },
     "metadata": {
      "needs_background": "light"
     },
     "output_type": "display_data"
    }
   ],
   "source": [
    "mu, sigma = scipy.stats.norm.fit(data)\n",
    "\n",
    "print(f\"\\n\\n The best fit parameters are:  mu={mu:4.2}  sigma={sigma:4.2} \\n\\n\")\n",
    "\n",
    "best_fit_line = scipy.stats.norm.pdf(bins, mu, sigma)\n",
    "bin_values, bins, myart = plt.hist(data, 20, density=1, alpha=0.5)\n",
    "plt.plot(bins, best_fit_line)"
   ]
  },
  {
   "cell_type": "markdown",
   "metadata": {},
   "source": [
    "## **EXERCISE 3**:  \n",
    "<span style=\"color:red\">  Extract the parameters of the mean and sigma for the fit.     </red>"
   ]
  },
  {
   "cell_type": "markdown",
   "metadata": {},
   "source": [
    "## **EXERCISE 2**:  \n",
    "<span style=\"color:red\">  Redo the example above, but with 10,000 entries in your histogram.  What changes?     </red>"
   ]
  },
  {
   "cell_type": "code",
   "execution_count": 11,
   "metadata": {},
   "outputs": [],
   "source": [
    "#Put your code here"
   ]
  },
  {
   "cell_type": "markdown",
   "metadata": {},
   "source": [
    "Put your comments on what changes here...  "
   ]
  },
  {
   "cell_type": "markdown",
   "metadata": {},
   "source": [
    "## Playing with the Iris data\n",
    "\n",
    "Recall how we could load/plot the Iris dataset"
   ]
  },
  {
   "cell_type": "code",
   "execution_count": 132,
   "metadata": {},
   "outputs": [
    {
     "data": {
      "image/png": "[encoded data removed]",
      "text/plain": [
       "<Figure size 432x288 with 1 Axes>"
      ]
     },
     "metadata": {
      "needs_background": "light"
     },
     "output_type": "display_data"
    }
   ],
   "source": [
    "np_list_virginica= np.loadtxt(\"data/Iris-virginica.dat\")\n",
    "np_list_versicolor= np.loadtxt(\"data/Iris-versicolor.dat\")\n",
    "np_list_setosa= np.loadtxt(\"data/Iris-setosa.dat\")\n",
    "\n",
    "plt.figure()  #Need this before we are able to save a plot to file!!!\n",
    "\n",
    "hist_setosa=plt.hist(np_list_setosa[:,0],label=\"Setosa\",alpha=.5)\n",
    "hist_virginica=plt.hist(np_list_virginica[:,0],label=\"Virginica\",alpha=.5)\n",
    "hist_versicolor=plt.hist(np_list_versicolor[:,0],label=\"Versicolor\",alpha=.5)\n",
    "# Adding Title\n",
    "plt.legend()\n",
    "plt.title(\"Iris Class Characteristics\")\n",
    "  \n",
    "# Labeling the axes\n",
    "plt.xlabel(\"Septal length (cm)\")\n",
    "plt.ylabel(\"Count/bin\")\n",
    " \n",
    "plt.savefig('septal_length.png')\n",
    "\n",
    "\n",
    "#print(np_list_virginica)"
   ]
  },
  {
   "cell_type": "markdown",
   "metadata": {},
   "source": [
    "These don't look very Gaussian, but there is limited statistics.  If we believe that the variations within a species are largely statistical, we might assume that if we measured enough properties of enough samples, these distributions might approach a Gaussian.  Let's fit one to a Gaussian and see what it looks like. "
   ]
  },
  {
   "cell_type": "code",
   "execution_count": 133,
   "metadata": {},
   "outputs": [
    {
     "data": {
      "text/plain": [
       "Text(0.5, 1.0, 'Setosa')"
      ]
     },
     "execution_count": 133,
     "metadata": {},
     "output_type": "execute_result"
    },
    {
     "data": {
      "image/png": "[encoded data removed]",
      "text/plain": [
       "<Figure size 432x288 with 1 Axes>"
      ]
     },
     "metadata": {
      "needs_background": "light"
     },
     "output_type": "display_data"
    }
   ],
   "source": [
    "_, bins, _ = plt.hist(np_list_setosa[:,0],label=\"Setosa\",density=True)  \n",
    "\n",
    "\n",
    "\n",
    "#It is easier if we normalize the histogram to 1 first... \n",
    "#Density=True does that for us\n",
    "\n",
    "mu, sigma = scipy.stats.norm.fit(np_list_setosa[:,0])\n",
    "best_fit_line = scipy.stats.norm.pdf(bins, mu, sigma)\n",
    "plt.xlabel(\"Septal length (cm)\")\n",
    "plt.ylabel(\"Prob/bin\")\n",
    "plt.plot(bins, best_fit_line)\n",
    "plt.xlim(xmax = 10.0, xmin = 0)\n",
    "plt.title(\"Setosa\")"
   ]
  },
  {
   "cell_type": "markdown",
   "metadata": {},
   "source": [
    "That actually looks pretty good.  "
   ]
  },
  {
   "cell_type": "markdown",
   "metadata": {},
   "source": [
    "## **EXERCISE 3**:  \n",
    "<span style=\"color:red\">  Fit the other Iris classes Septal lengths to Gaussian.  Compare the Gaussian means and sigmas.     </red>"
   ]
  },
  {
   "cell_type": "code",
   "execution_count": 122,
   "metadata": {},
   "outputs": [],
   "source": [
    "#Put your code here"
   ]
  },
  {
   "cell_type": "markdown",
   "metadata": {},
   "source": [
    "Compare the Gaussian means and sigmas here. "
   ]
  }
 ],
 "metadata": {
  "kernelspec": {
   "display_name": "Python 3 (ipykernel)",
   "language": "python",
   "name": "python3"
  },
  "language_info": {
   "codemirror_mode": {
    "name": "ipython",
    "version": 3
   },
   "file_extension": ".py",
   "mimetype": "text/x-python",
   "name": "python",
   "nbconvert_exporter": "python",
   "pygments_lexer": "ipython3",
   "version": "3.8.8"
  }
 },
 "nbformat": 4,
 "nbformat_minor": 4
}
